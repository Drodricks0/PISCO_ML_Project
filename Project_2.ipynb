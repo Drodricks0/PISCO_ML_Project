{
  "nbformat": 4,
  "nbformat_minor": 0,
  "metadata": {
    "colab": {
      "name": "Project_2.ipynb",
      "provenance": [],
      "collapsed_sections": [],
      "authorship_tag": "ABX9TyO3ezwhFHFJwlGSyPrMaaEM",
      "include_colab_link": true
    },
    "kernelspec": {
      "name": "python3",
      "display_name": "Python 3"
    },
    "language_info": {
      "name": "python"
    }
  },
  "cells": [
    {
      "cell_type": "markdown",
      "metadata": {
        "id": "view-in-github",
        "colab_type": "text"
      },
      "source": [
        "<a href=\"https://colab.research.google.com/github/Drodricks0/PISCO_ML_Project/blob/main/Project_2.ipynb\" target=\"_parent\"><img src=\"https://colab.research.google.com/assets/colab-badge.svg\" alt=\"Open In Colab\"/></a>"
      ]
    },
    {
      "cell_type": "code",
      "metadata": {
        "id": "xAU07Kv1gPv-",
        "colab": {
          "base_uri": "https://localhost:8080/",
          "height": 270
        },
        "outputId": "aaa6cccd-2fe9-4b24-c2a3-ea2b08a233a9"
      },
      "source": [
        "from sklearn.linear_model import LinearRegression\n",
        "from sklearn.model_selection import train_test_split\n",
        "from sklearn.tree import DecisionTreeRegressor\n",
        "from sklearn.ensemble import BaggingRegressor\n",
        "from sklearn.ensemble import RandomForestRegressor\n",
        "from sklearn.ensemble import RandomForestClassifier\n",
        "import matplotlib.pyplot as plt\n",
        "import seaborn as sns\n",
        "import numpy as np\n",
        "import pandas as pd \n",
        "\n",
        "\n",
        "df = pd.read_csv('/content/kelp_PISCO_swath_yrly_with_impact_rei_MM_140309.csv',encoding = \"ISO-8859-1\")\n",
        "df.head() "
      ],
      "execution_count": 45,
      "outputs": [
        {
          "output_type": "execute_result",
          "data": {
            "text/html": [
              "<div>\n",
              "<style scoped>\n",
              "    .dataframe tbody tr th:only-of-type {\n",
              "        vertical-align: middle;\n",
              "    }\n",
              "\n",
              "    .dataframe tbody tr th {\n",
              "        vertical-align: top;\n",
              "    }\n",
              "\n",
              "    .dataframe thead th {\n",
              "        text-align: right;\n",
              "    }\n",
              "</style>\n",
              "<table border=\"1\" class=\"dataframe\">\n",
              "  <thead>\n",
              "    <tr style=\"text-align: right;\">\n",
              "      <th></th>\n",
              "      <th>Unnamed: 0</th>\n",
              "      <th>X</th>\n",
              "      <th>site</th>\n",
              "      <th>lat_wgs84</th>\n",
              "      <th>lon_wgs84</th>\n",
              "      <th>bioregion</th>\n",
              "      <th>subregion</th>\n",
              "      <th>year</th>\n",
              "      <th>Anthopleura.sola</th>\n",
              "      <th>swath_antxan</th>\n",
              "      <th>density.Aplysia_californica</th>\n",
              "      <th>swath_balnub</th>\n",
              "      <th>density.Cancer_spp.</th>\n",
              "      <th>swath_cencor</th>\n",
              "      <th>Costaria.costatum</th>\n",
              "      <th>density.Crassedoma_giganteum</th>\n",
              "      <th>swath_cryste</th>\n",
              "      <th>density.Cypraea_spadicea</th>\n",
              "      <th>density.Cystoseira_osmundacea</th>\n",
              "      <th>density.Dermasterias_imbricata</th>\n",
              "      <th>Eisenia.arborea</th>\n",
              "      <th>Haliotis.spp</th>\n",
              "      <th>Kelletia.kelletii</th>\n",
              "      <th>Laminaria.farlowii</th>\n",
              "      <th>Laminaria.setchellii</th>\n",
              "      <th>density.Lophogorgia_chilensis</th>\n",
              "      <th>density.Loxorhynchus_grandis</th>\n",
              "      <th>swath_loxscy</th>\n",
              "      <th>swath_lytanaad</th>\n",
              "      <th>swath_macstipes</th>\n",
              "      <th>swath_medaeq</th>\n",
              "      <th>density.Megathura_crenulata</th>\n",
              "      <th>swath_meggib</th>\n",
              "      <th>swath_megund</th>\n",
              "      <th>swath_metspp</th>\n",
              "      <th>swath_mimfol</th>\n",
              "      <th>density.Muricea_californica</th>\n",
              "      <th>density.Muricea_fruticosa</th>\n",
              "      <th>swath_nerlue</th>\n",
              "      <th>density.Orthasterias_koehleri</th>\n",
              "      <th>...</th>\n",
              "      <th>density.Stylaster_californicus</th>\n",
              "      <th>no.yrs.sampled</th>\n",
              "      <th>rmv.ind</th>\n",
              "      <th>dat.source</th>\n",
              "      <th>type</th>\n",
              "      <th>climate</th>\n",
              "      <th>fishing</th>\n",
              "      <th>full</th>\n",
              "      <th>land</th>\n",
              "      <th>other</th>\n",
              "      <th>wave_exp</th>\n",
              "      <th>rei</th>\n",
              "      <th>surge</th>\n",
              "      <th>meansst_3kbuffer</th>\n",
              "      <th>meansummersst_3kbuffer</th>\n",
              "      <th>acid</th>\n",
              "      <th>beach_a</th>\n",
              "      <th>coastal_e</th>\n",
              "      <th>dem_d</th>\n",
              "      <th>dem_nd_hb</th>\n",
              "      <th>dem_nd_lb</th>\n",
              "      <th>dep_ocean</th>\n",
              "      <th>inorganic</th>\n",
              "      <th>invasives</th>\n",
              "      <th>light_pol</th>\n",
              "      <th>nutrients</th>\n",
              "      <th>oil</th>\n",
              "      <th>organic</th>\n",
              "      <th>pel_hb</th>\n",
              "      <th>pel_lb</th>\n",
              "      <th>pens</th>\n",
              "      <th>pollution</th>\n",
              "      <th>pplants</th>\n",
              "      <th>rec_fish</th>\n",
              "      <th>sed_decrease</th>\n",
              "      <th>sed_increase</th>\n",
              "      <th>shipping</th>\n",
              "      <th>sst</th>\n",
              "      <th>trash</th>\n",
              "      <th>uv</th>\n",
              "    </tr>\n",
              "  </thead>\n",
              "  <tbody>\n",
              "    <tr>\n",
              "      <th>0</th>\n",
              "      <td>611</td>\n",
              "      <td>1136</td>\n",
              "      <td>SPOUTING_HORN_WALL</td>\n",
              "      <td>44.814530</td>\n",
              "      <td>-124.066785</td>\n",
              "      <td>Mendocinian</td>\n",
              "      <td>OR</td>\n",
              "      <td>2011</td>\n",
              "      <td>0.0</td>\n",
              "      <td>0.033333</td>\n",
              "      <td>0.0</td>\n",
              "      <td>0.0</td>\n",
              "      <td>0.000000</td>\n",
              "      <td>0.0</td>\n",
              "      <td>0.008333</td>\n",
              "      <td>0.0000</td>\n",
              "      <td>0.141667</td>\n",
              "      <td>0.0</td>\n",
              "      <td>0.0</td>\n",
              "      <td>0.000000</td>\n",
              "      <td>0.000000</td>\n",
              "      <td>0.0</td>\n",
              "      <td>0.0</td>\n",
              "      <td>0.0</td>\n",
              "      <td>0.166667</td>\n",
              "      <td>0.0</td>\n",
              "      <td>0.0</td>\n",
              "      <td>0.0</td>\n",
              "      <td>0.0</td>\n",
              "      <td>0.0</td>\n",
              "      <td>0.0</td>\n",
              "      <td>0.0</td>\n",
              "      <td>0.0</td>\n",
              "      <td>0.0</td>\n",
              "      <td>0.0</td>\n",
              "      <td>0.0</td>\n",
              "      <td>0.0</td>\n",
              "      <td>0.0</td>\n",
              "      <td>1.283333</td>\n",
              "      <td>0.0</td>\n",
              "      <td>...</td>\n",
              "      <td>0.0</td>\n",
              "      <td>1</td>\n",
              "      <td>yes</td>\n",
              "      <td>pisco</td>\n",
              "      <td>swath</td>\n",
              "      <td>5.513851</td>\n",
              "      <td>1.206951</td>\n",
              "      <td>11.932325</td>\n",
              "      <td>3.007962</td>\n",
              "      <td>2.203562</td>\n",
              "      <td>299</td>\n",
              "      <td>500702</td>\n",
              "      <td>20828</td>\n",
              "      <td>13.500</td>\n",
              "      <td>11.550000</td>\n",
              "      <td>2.710482</td>\n",
              "      <td>1.175437</td>\n",
              "      <td>0.0</td>\n",
              "      <td>0.104953</td>\n",
              "      <td>0.011768</td>\n",
              "      <td>0.186366</td>\n",
              "      <td>0.854531</td>\n",
              "      <td>0.164849</td>\n",
              "      <td>1.800536</td>\n",
              "      <td>0.437976</td>\n",
              "      <td>0.230062</td>\n",
              "      <td>0</td>\n",
              "      <td>0.551025</td>\n",
              "      <td>0.0</td>\n",
              "      <td>0</td>\n",
              "      <td>0</td>\n",
              "      <td>0.782208</td>\n",
              "      <td>0.0</td>\n",
              "      <td>0.447762</td>\n",
              "      <td>0.213085</td>\n",
              "      <td>1.240800</td>\n",
              "      <td>0.036893</td>\n",
              "      <td>2.205759</td>\n",
              "      <td>0.0</td>\n",
              "      <td>2.006757</td>\n",
              "    </tr>\n",
              "    <tr>\n",
              "      <th>1</th>\n",
              "      <td>610</td>\n",
              "      <td>1135</td>\n",
              "      <td>SPOUTING_HORN_KELP</td>\n",
              "      <td>44.813626</td>\n",
              "      <td>-124.065271</td>\n",
              "      <td>Mendocinian</td>\n",
              "      <td>OR</td>\n",
              "      <td>2011</td>\n",
              "      <td>0.0</td>\n",
              "      <td>0.000000</td>\n",
              "      <td>0.0</td>\n",
              "      <td>0.0</td>\n",
              "      <td>0.070833</td>\n",
              "      <td>0.0</td>\n",
              "      <td>0.000000</td>\n",
              "      <td>0.0125</td>\n",
              "      <td>0.075000</td>\n",
              "      <td>0.0</td>\n",
              "      <td>0.0</td>\n",
              "      <td>0.000000</td>\n",
              "      <td>0.000000</td>\n",
              "      <td>0.0</td>\n",
              "      <td>0.0</td>\n",
              "      <td>0.0</td>\n",
              "      <td>0.008333</td>\n",
              "      <td>0.0</td>\n",
              "      <td>0.0</td>\n",
              "      <td>0.0</td>\n",
              "      <td>0.0</td>\n",
              "      <td>0.0</td>\n",
              "      <td>0.0</td>\n",
              "      <td>0.0</td>\n",
              "      <td>0.0</td>\n",
              "      <td>0.0</td>\n",
              "      <td>0.0</td>\n",
              "      <td>0.0</td>\n",
              "      <td>0.0</td>\n",
              "      <td>0.0</td>\n",
              "      <td>0.808333</td>\n",
              "      <td>0.0</td>\n",
              "      <td>...</td>\n",
              "      <td>0.0</td>\n",
              "      <td>1</td>\n",
              "      <td>yes</td>\n",
              "      <td>pisco</td>\n",
              "      <td>swath</td>\n",
              "      <td>5.521493</td>\n",
              "      <td>1.207823</td>\n",
              "      <td>11.966370</td>\n",
              "      <td>3.029874</td>\n",
              "      <td>2.207181</td>\n",
              "      <td>299</td>\n",
              "      <td>500702</td>\n",
              "      <td>20828</td>\n",
              "      <td>13.500</td>\n",
              "      <td>11.550000</td>\n",
              "      <td>2.710482</td>\n",
              "      <td>1.175437</td>\n",
              "      <td>0.0</td>\n",
              "      <td>0.105094</td>\n",
              "      <td>0.011783</td>\n",
              "      <td>0.186617</td>\n",
              "      <td>0.854434</td>\n",
              "      <td>0.166612</td>\n",
              "      <td>1.800550</td>\n",
              "      <td>0.460471</td>\n",
              "      <td>0.231119</td>\n",
              "      <td>0</td>\n",
              "      <td>0.553704</td>\n",
              "      <td>0.0</td>\n",
              "      <td>0</td>\n",
              "      <td>0</td>\n",
              "      <td>0.787416</td>\n",
              "      <td>0.0</td>\n",
              "      <td>0.447762</td>\n",
              "      <td>0.212900</td>\n",
              "      <td>1.242958</td>\n",
              "      <td>0.038833</td>\n",
              "      <td>2.212874</td>\n",
              "      <td>0.0</td>\n",
              "      <td>2.006757</td>\n",
              "    </tr>\n",
              "    <tr>\n",
              "      <th>2</th>\n",
              "      <td>709</td>\n",
              "      <td>1308</td>\n",
              "      <td>WHALE_COVE</td>\n",
              "      <td>44.789063</td>\n",
              "      <td>-124.070625</td>\n",
              "      <td>Mendocinian</td>\n",
              "      <td>OR</td>\n",
              "      <td>2011</td>\n",
              "      <td>0.0</td>\n",
              "      <td>0.001389</td>\n",
              "      <td>0.0</td>\n",
              "      <td>0.0</td>\n",
              "      <td>0.009722</td>\n",
              "      <td>0.0</td>\n",
              "      <td>0.002778</td>\n",
              "      <td>0.0000</td>\n",
              "      <td>0.040278</td>\n",
              "      <td>0.0</td>\n",
              "      <td>0.0</td>\n",
              "      <td>0.000000</td>\n",
              "      <td>0.018056</td>\n",
              "      <td>0.0</td>\n",
              "      <td>0.0</td>\n",
              "      <td>0.0</td>\n",
              "      <td>0.040278</td>\n",
              "      <td>0.0</td>\n",
              "      <td>0.0</td>\n",
              "      <td>0.0</td>\n",
              "      <td>0.0</td>\n",
              "      <td>0.0</td>\n",
              "      <td>0.0</td>\n",
              "      <td>0.0</td>\n",
              "      <td>0.0</td>\n",
              "      <td>0.0</td>\n",
              "      <td>0.0</td>\n",
              "      <td>0.0</td>\n",
              "      <td>0.0</td>\n",
              "      <td>0.0</td>\n",
              "      <td>0.162500</td>\n",
              "      <td>0.0</td>\n",
              "      <td>...</td>\n",
              "      <td>0.0</td>\n",
              "      <td>1</td>\n",
              "      <td>yes</td>\n",
              "      <td>pisco</td>\n",
              "      <td>swath</td>\n",
              "      <td>5.563937</td>\n",
              "      <td>1.203462</td>\n",
              "      <td>11.757598</td>\n",
              "      <td>2.818287</td>\n",
              "      <td>2.171911</td>\n",
              "      <td>299</td>\n",
              "      <td>502171</td>\n",
              "      <td>22000</td>\n",
              "      <td>13.500</td>\n",
              "      <td>11.681344</td>\n",
              "      <td>2.710482</td>\n",
              "      <td>1.164208</td>\n",
              "      <td>0.0</td>\n",
              "      <td>0.104387</td>\n",
              "      <td>0.011704</td>\n",
              "      <td>0.185362</td>\n",
              "      <td>0.857738</td>\n",
              "      <td>0.145322</td>\n",
              "      <td>1.793776</td>\n",
              "      <td>0.355144</td>\n",
              "      <td>0.203274</td>\n",
              "      <td>0</td>\n",
              "      <td>0.462811</td>\n",
              "      <td>0.0</td>\n",
              "      <td>0</td>\n",
              "      <td>0</td>\n",
              "      <td>0.745505</td>\n",
              "      <td>0.0</td>\n",
              "      <td>0.447762</td>\n",
              "      <td>0.306184</td>\n",
              "      <td>1.175457</td>\n",
              "      <td>0.030103</td>\n",
              "      <td>2.252390</td>\n",
              "      <td>0.0</td>\n",
              "      <td>2.006757</td>\n",
              "    </tr>\n",
              "    <tr>\n",
              "      <th>3</th>\n",
              "      <td>312</td>\n",
              "      <td>590</td>\n",
              "      <td>OTTER_CREST</td>\n",
              "      <td>44.756553</td>\n",
              "      <td>-124.069457</td>\n",
              "      <td>Mendocinian</td>\n",
              "      <td>OR</td>\n",
              "      <td>2011</td>\n",
              "      <td>0.0</td>\n",
              "      <td>0.000000</td>\n",
              "      <td>0.0</td>\n",
              "      <td>0.0</td>\n",
              "      <td>0.000000</td>\n",
              "      <td>0.0</td>\n",
              "      <td>0.000000</td>\n",
              "      <td>0.0000</td>\n",
              "      <td>0.097222</td>\n",
              "      <td>0.0</td>\n",
              "      <td>0.0</td>\n",
              "      <td>0.000000</td>\n",
              "      <td>0.000000</td>\n",
              "      <td>0.0</td>\n",
              "      <td>0.0</td>\n",
              "      <td>0.0</td>\n",
              "      <td>0.497222</td>\n",
              "      <td>0.0</td>\n",
              "      <td>0.0</td>\n",
              "      <td>0.0</td>\n",
              "      <td>0.0</td>\n",
              "      <td>0.0</td>\n",
              "      <td>0.0</td>\n",
              "      <td>0.0</td>\n",
              "      <td>0.0</td>\n",
              "      <td>0.0</td>\n",
              "      <td>0.0</td>\n",
              "      <td>0.0</td>\n",
              "      <td>0.0</td>\n",
              "      <td>0.0</td>\n",
              "      <td>4.016667</td>\n",
              "      <td>0.0</td>\n",
              "      <td>...</td>\n",
              "      <td>0.0</td>\n",
              "      <td>1</td>\n",
              "      <td>yes</td>\n",
              "      <td>pisco</td>\n",
              "      <td>swath</td>\n",
              "      <td>5.178033</td>\n",
              "      <td>1.091203</td>\n",
              "      <td>10.978578</td>\n",
              "      <td>2.575892</td>\n",
              "      <td>2.133448</td>\n",
              "      <td>284</td>\n",
              "      <td>495846</td>\n",
              "      <td>25000</td>\n",
              "      <td>12.725</td>\n",
              "      <td>11.681344</td>\n",
              "      <td>2.710482</td>\n",
              "      <td>1.110108</td>\n",
              "      <td>0.0</td>\n",
              "      <td>0.104387</td>\n",
              "      <td>0.011704</td>\n",
              "      <td>0.185362</td>\n",
              "      <td>0.861292</td>\n",
              "      <td>0.133821</td>\n",
              "      <td>1.754222</td>\n",
              "      <td>0.300000</td>\n",
              "      <td>0.177190</td>\n",
              "      <td>0</td>\n",
              "      <td>0.338245</td>\n",
              "      <td>0.0</td>\n",
              "      <td>0</td>\n",
              "      <td>0</td>\n",
              "      <td>0.742686</td>\n",
              "      <td>0.0</td>\n",
              "      <td>0.447762</td>\n",
              "      <td>0.384126</td>\n",
              "      <td>1.093587</td>\n",
              "      <td>0.030103</td>\n",
              "      <td>2.287617</td>\n",
              "      <td>0.0</td>\n",
              "      <td>2.006757</td>\n",
              "    </tr>\n",
              "    <tr>\n",
              "      <th>4</th>\n",
              "      <td>319</td>\n",
              "      <td>601</td>\n",
              "      <td>OTTER_ROCK_WALL</td>\n",
              "      <td>44.732572</td>\n",
              "      <td>-124.069731</td>\n",
              "      <td>Mendocinian</td>\n",
              "      <td>OR</td>\n",
              "      <td>2010</td>\n",
              "      <td>0.0</td>\n",
              "      <td>1.666667</td>\n",
              "      <td>0.0</td>\n",
              "      <td>0.0</td>\n",
              "      <td>0.000000</td>\n",
              "      <td>0.0</td>\n",
              "      <td>0.000000</td>\n",
              "      <td>0.0000</td>\n",
              "      <td>0.008333</td>\n",
              "      <td>0.0</td>\n",
              "      <td>0.0</td>\n",
              "      <td>0.008333</td>\n",
              "      <td>0.000000</td>\n",
              "      <td>0.0</td>\n",
              "      <td>0.0</td>\n",
              "      <td>0.0</td>\n",
              "      <td>3.141667</td>\n",
              "      <td>0.0</td>\n",
              "      <td>0.0</td>\n",
              "      <td>0.0</td>\n",
              "      <td>0.0</td>\n",
              "      <td>0.0</td>\n",
              "      <td>0.0</td>\n",
              "      <td>0.0</td>\n",
              "      <td>0.0</td>\n",
              "      <td>0.0</td>\n",
              "      <td>0.0</td>\n",
              "      <td>0.0</td>\n",
              "      <td>0.0</td>\n",
              "      <td>0.0</td>\n",
              "      <td>1.241667</td>\n",
              "      <td>0.0</td>\n",
              "      <td>...</td>\n",
              "      <td>0.0</td>\n",
              "      <td>2</td>\n",
              "      <td>yes</td>\n",
              "      <td>pisco</td>\n",
              "      <td>swath</td>\n",
              "      <td>5.272214</td>\n",
              "      <td>1.149363</td>\n",
              "      <td>10.931376</td>\n",
              "      <td>2.451088</td>\n",
              "      <td>2.058710</td>\n",
              "      <td>284</td>\n",
              "      <td>495814</td>\n",
              "      <td>26414</td>\n",
              "      <td>11.950</td>\n",
              "      <td>11.775000</td>\n",
              "      <td>2.710482</td>\n",
              "      <td>1.068152</td>\n",
              "      <td>0.0</td>\n",
              "      <td>0.104522</td>\n",
              "      <td>0.011719</td>\n",
              "      <td>0.185602</td>\n",
              "      <td>0.864674</td>\n",
              "      <td>0.147076</td>\n",
              "      <td>1.698244</td>\n",
              "      <td>0.331049</td>\n",
              "      <td>0.176792</td>\n",
              "      <td>0</td>\n",
              "      <td>0.267489</td>\n",
              "      <td>0.0</td>\n",
              "      <td>0</td>\n",
              "      <td>0</td>\n",
              "      <td>0.709368</td>\n",
              "      <td>0.0</td>\n",
              "      <td>0.447762</td>\n",
              "      <td>0.436159</td>\n",
              "      <td>1.015355</td>\n",
              "      <td>0.030103</td>\n",
              "      <td>2.161806</td>\n",
              "      <td>0.0</td>\n",
              "      <td>2.006757</td>\n",
              "    </tr>\n",
              "  </tbody>\n",
              "</table>\n",
              "<p>5 rows × 104 columns</p>\n",
              "</div>"
            ],
            "text/plain": [
              "   Unnamed: 0     X                site  ...       sst  trash        uv\n",
              "0         611  1136  SPOUTING_HORN_WALL  ...  2.205759    0.0  2.006757\n",
              "1         610  1135  SPOUTING_HORN_KELP  ...  2.212874    0.0  2.006757\n",
              "2         709  1308          WHALE_COVE  ...  2.252390    0.0  2.006757\n",
              "3         312   590         OTTER_CREST  ...  2.287617    0.0  2.006757\n",
              "4         319   601     OTTER_ROCK_WALL  ...  2.161806    0.0  2.006757\n",
              "\n",
              "[5 rows x 104 columns]"
            ]
          },
          "metadata": {},
          "execution_count": 45
        }
      ]
    },
    {
      "cell_type": "code",
      "metadata": {
        "colab": {
          "base_uri": "https://localhost:8080/"
        },
        "id": "Jf9EZq0hOo4I",
        "outputId": "de23c329-abd8-4f4c-f331-bba38af0c6c1"
      },
      "source": [
        "df.info()"
      ],
      "execution_count": 46,
      "outputs": [
        {
          "output_type": "stream",
          "name": "stdout",
          "text": [
            "<class 'pandas.core.frame.DataFrame'>\n",
            "RangeIndex: 705 entries, 0 to 704\n",
            "Columns: 104 entries, Unnamed: 0 to uv\n",
            "dtypes: float64(88), int64(10), object(6)\n",
            "memory usage: 572.9+ KB\n"
          ]
        }
      ]
    },
    {
      "cell_type": "markdown",
      "metadata": {
        "id": "OqoGpcl5M3X3"
      },
      "source": [
        "1. Source is from a source is from a colleague that collected this data via scuba\n",
        "\n",
        "2.  Data focuses on various invertebrates and fish identified by skilled scuba divers who observed them on their diving excursions. There are species counts based on density vs. count.\n",
        "\n",
        "3. The target will be Strongylocentrotus purpuratus (purple urchin) and whether or not the higher concentration of this invertebrate affects the invertebrates and the concentration of various kelp species.\n",
        "\n",
        "4. Regression\n",
        "\n",
        "5. Feature count is TBD depending on whether or not I can obtain more data from colleague\n",
        "\n",
        "6. 705 rows\n",
        "\n",
        "7. Luckily I have my colleague to answer any questions about the data that is presented in this data set, however, trimming down the feature count would be the biggest challenge. I dont want to over trim, but there are various features that I believe can be removed.\n",
        "\n",
        "\n",
        "***Overall, this data set is more detailed than the other one I am proposing, and my roommate assisted in gathering this data, so I have a specialist at the ready to answer questions."
      ]
    },
    {
      "cell_type": "code",
      "metadata": {
        "colab": {
          "base_uri": "https://localhost:8080/",
          "height": 224
        },
        "id": "OmevYVvJmUDM",
        "outputId": "081a61fe-6497-49c8-f164-23c3753b722f"
      },
      "source": [
        "df = df[['site','lat_wgs84','lon_wgs84','bioregion','year','Anthopleura.sola','density.Aplysia_californica','density.Cancer_spp.','Costaria.costatum','density.Crassedoma_giganteum','density.Cypraea_spadicea','density.Cystoseira_osmundacea','density.Dermasterias_imbricata','Eisenia.arborea','Haliotis.spp','Kelletia.kelletii','Laminaria.farlowii','Laminaria.setchellii','density.Lophogorgia_chilensis','density.Loxorhynchus_grandis','density.Megathura_crenulata','density.Muricea_californica','density.Muricea_fruticosa','density.Orthasterias_koehleri','density.Panulirus_interruptus','Parastichopus.californicus','Parastichopus.parvimensis','density.Patiria_miniata','Pisaster.brevispinus','Pisaster.giganteus','Pisaster.ochraceus','Pterygophora.californica','density.Pugettia_producta','density.Pycnopodia_helianthoides','Strongylocentrotus.franciscanus','Strongylocentrotus.purpuratus','density.Urticina_piscivora','density.Stylaster_californicus','climate']]\n",
        "df.head()"
      ],
      "execution_count": 47,
      "outputs": [
        {
          "output_type": "execute_result",
          "data": {
            "text/html": [
              "<div>\n",
              "<style scoped>\n",
              "    .dataframe tbody tr th:only-of-type {\n",
              "        vertical-align: middle;\n",
              "    }\n",
              "\n",
              "    .dataframe tbody tr th {\n",
              "        vertical-align: top;\n",
              "    }\n",
              "\n",
              "    .dataframe thead th {\n",
              "        text-align: right;\n",
              "    }\n",
              "</style>\n",
              "<table border=\"1\" class=\"dataframe\">\n",
              "  <thead>\n",
              "    <tr style=\"text-align: right;\">\n",
              "      <th></th>\n",
              "      <th>site</th>\n",
              "      <th>lat_wgs84</th>\n",
              "      <th>lon_wgs84</th>\n",
              "      <th>bioregion</th>\n",
              "      <th>year</th>\n",
              "      <th>Anthopleura.sola</th>\n",
              "      <th>density.Aplysia_californica</th>\n",
              "      <th>density.Cancer_spp.</th>\n",
              "      <th>Costaria.costatum</th>\n",
              "      <th>density.Crassedoma_giganteum</th>\n",
              "      <th>density.Cypraea_spadicea</th>\n",
              "      <th>density.Cystoseira_osmundacea</th>\n",
              "      <th>density.Dermasterias_imbricata</th>\n",
              "      <th>Eisenia.arborea</th>\n",
              "      <th>Haliotis.spp</th>\n",
              "      <th>Kelletia.kelletii</th>\n",
              "      <th>Laminaria.farlowii</th>\n",
              "      <th>Laminaria.setchellii</th>\n",
              "      <th>density.Lophogorgia_chilensis</th>\n",
              "      <th>density.Loxorhynchus_grandis</th>\n",
              "      <th>density.Megathura_crenulata</th>\n",
              "      <th>density.Muricea_californica</th>\n",
              "      <th>density.Muricea_fruticosa</th>\n",
              "      <th>density.Orthasterias_koehleri</th>\n",
              "      <th>density.Panulirus_interruptus</th>\n",
              "      <th>Parastichopus.californicus</th>\n",
              "      <th>Parastichopus.parvimensis</th>\n",
              "      <th>density.Patiria_miniata</th>\n",
              "      <th>Pisaster.brevispinus</th>\n",
              "      <th>Pisaster.giganteus</th>\n",
              "      <th>Pisaster.ochraceus</th>\n",
              "      <th>Pterygophora.californica</th>\n",
              "      <th>density.Pugettia_producta</th>\n",
              "      <th>density.Pycnopodia_helianthoides</th>\n",
              "      <th>Strongylocentrotus.franciscanus</th>\n",
              "      <th>Strongylocentrotus.purpuratus</th>\n",
              "      <th>density.Urticina_piscivora</th>\n",
              "      <th>density.Stylaster_californicus</th>\n",
              "      <th>climate</th>\n",
              "    </tr>\n",
              "  </thead>\n",
              "  <tbody>\n",
              "    <tr>\n",
              "      <th>0</th>\n",
              "      <td>SPOUTING_HORN_WALL</td>\n",
              "      <td>44.814530</td>\n",
              "      <td>-124.066785</td>\n",
              "      <td>Mendocinian</td>\n",
              "      <td>2011</td>\n",
              "      <td>0.0</td>\n",
              "      <td>0.0</td>\n",
              "      <td>0.000000</td>\n",
              "      <td>0.008333</td>\n",
              "      <td>0.0000</td>\n",
              "      <td>0.0</td>\n",
              "      <td>0.0</td>\n",
              "      <td>0.000000</td>\n",
              "      <td>0.000000</td>\n",
              "      <td>0.0</td>\n",
              "      <td>0.0</td>\n",
              "      <td>0.0</td>\n",
              "      <td>0.166667</td>\n",
              "      <td>0.0</td>\n",
              "      <td>0.0</td>\n",
              "      <td>0.0</td>\n",
              "      <td>0.0</td>\n",
              "      <td>0.0</td>\n",
              "      <td>0.0</td>\n",
              "      <td>0.0</td>\n",
              "      <td>0.008333</td>\n",
              "      <td>0.0</td>\n",
              "      <td>0.0</td>\n",
              "      <td>0.0</td>\n",
              "      <td>0.0</td>\n",
              "      <td>0.008333</td>\n",
              "      <td>0.333333</td>\n",
              "      <td>0.0</td>\n",
              "      <td>0.000000</td>\n",
              "      <td>0.050000</td>\n",
              "      <td>0.0</td>\n",
              "      <td>0.0</td>\n",
              "      <td>0.0</td>\n",
              "      <td>5.513851</td>\n",
              "    </tr>\n",
              "    <tr>\n",
              "      <th>1</th>\n",
              "      <td>SPOUTING_HORN_KELP</td>\n",
              "      <td>44.813626</td>\n",
              "      <td>-124.065271</td>\n",
              "      <td>Mendocinian</td>\n",
              "      <td>2011</td>\n",
              "      <td>0.0</td>\n",
              "      <td>0.0</td>\n",
              "      <td>0.070833</td>\n",
              "      <td>0.000000</td>\n",
              "      <td>0.0125</td>\n",
              "      <td>0.0</td>\n",
              "      <td>0.0</td>\n",
              "      <td>0.000000</td>\n",
              "      <td>0.000000</td>\n",
              "      <td>0.0</td>\n",
              "      <td>0.0</td>\n",
              "      <td>0.0</td>\n",
              "      <td>0.008333</td>\n",
              "      <td>0.0</td>\n",
              "      <td>0.0</td>\n",
              "      <td>0.0</td>\n",
              "      <td>0.0</td>\n",
              "      <td>0.0</td>\n",
              "      <td>0.0</td>\n",
              "      <td>0.0</td>\n",
              "      <td>0.000000</td>\n",
              "      <td>0.0</td>\n",
              "      <td>0.0</td>\n",
              "      <td>0.0</td>\n",
              "      <td>0.0</td>\n",
              "      <td>0.016667</td>\n",
              "      <td>0.000000</td>\n",
              "      <td>0.0</td>\n",
              "      <td>0.012500</td>\n",
              "      <td>0.404167</td>\n",
              "      <td>0.0</td>\n",
              "      <td>0.0</td>\n",
              "      <td>0.0</td>\n",
              "      <td>5.521493</td>\n",
              "    </tr>\n",
              "    <tr>\n",
              "      <th>2</th>\n",
              "      <td>WHALE_COVE</td>\n",
              "      <td>44.789063</td>\n",
              "      <td>-124.070625</td>\n",
              "      <td>Mendocinian</td>\n",
              "      <td>2011</td>\n",
              "      <td>0.0</td>\n",
              "      <td>0.0</td>\n",
              "      <td>0.009722</td>\n",
              "      <td>0.002778</td>\n",
              "      <td>0.0000</td>\n",
              "      <td>0.0</td>\n",
              "      <td>0.0</td>\n",
              "      <td>0.000000</td>\n",
              "      <td>0.018056</td>\n",
              "      <td>0.0</td>\n",
              "      <td>0.0</td>\n",
              "      <td>0.0</td>\n",
              "      <td>0.040278</td>\n",
              "      <td>0.0</td>\n",
              "      <td>0.0</td>\n",
              "      <td>0.0</td>\n",
              "      <td>0.0</td>\n",
              "      <td>0.0</td>\n",
              "      <td>0.0</td>\n",
              "      <td>0.0</td>\n",
              "      <td>0.000000</td>\n",
              "      <td>0.0</td>\n",
              "      <td>0.0</td>\n",
              "      <td>0.0</td>\n",
              "      <td>0.0</td>\n",
              "      <td>0.005556</td>\n",
              "      <td>0.922222</td>\n",
              "      <td>0.0</td>\n",
              "      <td>0.008333</td>\n",
              "      <td>0.522222</td>\n",
              "      <td>0.0</td>\n",
              "      <td>0.0</td>\n",
              "      <td>0.0</td>\n",
              "      <td>5.563937</td>\n",
              "    </tr>\n",
              "    <tr>\n",
              "      <th>3</th>\n",
              "      <td>OTTER_CREST</td>\n",
              "      <td>44.756553</td>\n",
              "      <td>-124.069457</td>\n",
              "      <td>Mendocinian</td>\n",
              "      <td>2011</td>\n",
              "      <td>0.0</td>\n",
              "      <td>0.0</td>\n",
              "      <td>0.000000</td>\n",
              "      <td>0.000000</td>\n",
              "      <td>0.0000</td>\n",
              "      <td>0.0</td>\n",
              "      <td>0.0</td>\n",
              "      <td>0.000000</td>\n",
              "      <td>0.000000</td>\n",
              "      <td>0.0</td>\n",
              "      <td>0.0</td>\n",
              "      <td>0.0</td>\n",
              "      <td>0.497222</td>\n",
              "      <td>0.0</td>\n",
              "      <td>0.0</td>\n",
              "      <td>0.0</td>\n",
              "      <td>0.0</td>\n",
              "      <td>0.0</td>\n",
              "      <td>0.0</td>\n",
              "      <td>0.0</td>\n",
              "      <td>0.000000</td>\n",
              "      <td>0.0</td>\n",
              "      <td>0.0</td>\n",
              "      <td>0.0</td>\n",
              "      <td>0.0</td>\n",
              "      <td>0.019444</td>\n",
              "      <td>1.375000</td>\n",
              "      <td>0.0</td>\n",
              "      <td>0.022222</td>\n",
              "      <td>0.122222</td>\n",
              "      <td>0.0</td>\n",
              "      <td>0.0</td>\n",
              "      <td>0.0</td>\n",
              "      <td>5.178033</td>\n",
              "    </tr>\n",
              "    <tr>\n",
              "      <th>4</th>\n",
              "      <td>OTTER_ROCK_WALL</td>\n",
              "      <td>44.732572</td>\n",
              "      <td>-124.069731</td>\n",
              "      <td>Mendocinian</td>\n",
              "      <td>2010</td>\n",
              "      <td>0.0</td>\n",
              "      <td>0.0</td>\n",
              "      <td>0.000000</td>\n",
              "      <td>0.000000</td>\n",
              "      <td>0.0000</td>\n",
              "      <td>0.0</td>\n",
              "      <td>0.0</td>\n",
              "      <td>0.008333</td>\n",
              "      <td>0.000000</td>\n",
              "      <td>0.0</td>\n",
              "      <td>0.0</td>\n",
              "      <td>0.0</td>\n",
              "      <td>3.141667</td>\n",
              "      <td>0.0</td>\n",
              "      <td>0.0</td>\n",
              "      <td>0.0</td>\n",
              "      <td>0.0</td>\n",
              "      <td>0.0</td>\n",
              "      <td>0.0</td>\n",
              "      <td>0.0</td>\n",
              "      <td>0.000000</td>\n",
              "      <td>0.0</td>\n",
              "      <td>0.0</td>\n",
              "      <td>0.0</td>\n",
              "      <td>0.0</td>\n",
              "      <td>0.150000</td>\n",
              "      <td>0.908333</td>\n",
              "      <td>0.0</td>\n",
              "      <td>0.050000</td>\n",
              "      <td>0.000000</td>\n",
              "      <td>0.0</td>\n",
              "      <td>0.0</td>\n",
              "      <td>0.0</td>\n",
              "      <td>5.272214</td>\n",
              "    </tr>\n",
              "  </tbody>\n",
              "</table>\n",
              "</div>"
            ],
            "text/plain": [
              "                 site  lat_wgs84  ...  density.Stylaster_californicus   climate\n",
              "0  SPOUTING_HORN_WALL  44.814530  ...                             0.0  5.513851\n",
              "1  SPOUTING_HORN_KELP  44.813626  ...                             0.0  5.521493\n",
              "2          WHALE_COVE  44.789063  ...                             0.0  5.563937\n",
              "3         OTTER_CREST  44.756553  ...                             0.0  5.178033\n",
              "4     OTTER_ROCK_WALL  44.732572  ...                             0.0  5.272214\n",
              "\n",
              "[5 rows x 39 columns]"
            ]
          },
          "metadata": {},
          "execution_count": 47
        }
      ]
    },
    {
      "cell_type": "code",
      "metadata": {
        "colab": {
          "base_uri": "https://localhost:8080/"
        },
        "id": "Hr3aKcwL2Wmk",
        "outputId": "6a6ae276-a38e-48dd-f355-9001c9fe6495"
      },
      "source": [
        "df.info()"
      ],
      "execution_count": 48,
      "outputs": [
        {
          "output_type": "stream",
          "name": "stdout",
          "text": [
            "<class 'pandas.core.frame.DataFrame'>\n",
            "RangeIndex: 705 entries, 0 to 704\n",
            "Data columns (total 39 columns):\n",
            " #   Column                            Non-Null Count  Dtype  \n",
            "---  ------                            --------------  -----  \n",
            " 0   site                              705 non-null    object \n",
            " 1   lat_wgs84                         705 non-null    float64\n",
            " 2   lon_wgs84                         705 non-null    float64\n",
            " 3   bioregion                         705 non-null    object \n",
            " 4   year                              705 non-null    int64  \n",
            " 5   Anthopleura.sola                  705 non-null    float64\n",
            " 6   density.Aplysia_californica       705 non-null    float64\n",
            " 7   density.Cancer_spp.               705 non-null    float64\n",
            " 8   Costaria.costatum                 705 non-null    float64\n",
            " 9   density.Crassedoma_giganteum      705 non-null    float64\n",
            " 10  density.Cypraea_spadicea          705 non-null    float64\n",
            " 11  density.Cystoseira_osmundacea     705 non-null    float64\n",
            " 12  density.Dermasterias_imbricata    705 non-null    float64\n",
            " 13  Eisenia.arborea                   705 non-null    float64\n",
            " 14  Haliotis.spp                      705 non-null    float64\n",
            " 15  Kelletia.kelletii                 705 non-null    float64\n",
            " 16  Laminaria.farlowii                705 non-null    float64\n",
            " 17  Laminaria.setchellii              705 non-null    float64\n",
            " 18  density.Lophogorgia_chilensis     705 non-null    float64\n",
            " 19  density.Loxorhynchus_grandis      705 non-null    float64\n",
            " 20  density.Megathura_crenulata       705 non-null    float64\n",
            " 21  density.Muricea_californica       705 non-null    float64\n",
            " 22  density.Muricea_fruticosa         705 non-null    float64\n",
            " 23  density.Orthasterias_koehleri     705 non-null    float64\n",
            " 24  density.Panulirus_interruptus     705 non-null    float64\n",
            " 25  Parastichopus.californicus        705 non-null    float64\n",
            " 26  Parastichopus.parvimensis         705 non-null    float64\n",
            " 27  density.Patiria_miniata           705 non-null    float64\n",
            " 28  Pisaster.brevispinus              705 non-null    float64\n",
            " 29  Pisaster.giganteus                705 non-null    float64\n",
            " 30  Pisaster.ochraceus                705 non-null    float64\n",
            " 31  Pterygophora.californica          705 non-null    float64\n",
            " 32  density.Pugettia_producta         705 non-null    float64\n",
            " 33  density.Pycnopodia_helianthoides  705 non-null    float64\n",
            " 34  Strongylocentrotus.franciscanus   705 non-null    float64\n",
            " 35  Strongylocentrotus.purpuratus     705 non-null    float64\n",
            " 36  density.Urticina_piscivora        705 non-null    float64\n",
            " 37  density.Stylaster_californicus    705 non-null    float64\n",
            " 38  climate                           705 non-null    float64\n",
            "dtypes: float64(36), int64(1), object(2)\n",
            "memory usage: 214.9+ KB\n"
          ]
        }
      ]
    },
    {
      "cell_type": "code",
      "metadata": {
        "colab": {
          "base_uri": "https://localhost:8080/"
        },
        "id": "OT1yyx3J6M9Y",
        "outputId": "e5b02821-bdaa-448b-ffd1-f7d7efb63f79"
      },
      "source": [
        "df.isnull().sum()"
      ],
      "execution_count": 49,
      "outputs": [
        {
          "output_type": "execute_result",
          "data": {
            "text/plain": [
              "site                                0\n",
              "lat_wgs84                           0\n",
              "lon_wgs84                           0\n",
              "bioregion                           0\n",
              "year                                0\n",
              "Anthopleura.sola                    0\n",
              "density.Aplysia_californica         0\n",
              "density.Cancer_spp.                 0\n",
              "Costaria.costatum                   0\n",
              "density.Crassedoma_giganteum        0\n",
              "density.Cypraea_spadicea            0\n",
              "density.Cystoseira_osmundacea       0\n",
              "density.Dermasterias_imbricata      0\n",
              "Eisenia.arborea                     0\n",
              "Haliotis.spp                        0\n",
              "Kelletia.kelletii                   0\n",
              "Laminaria.farlowii                  0\n",
              "Laminaria.setchellii                0\n",
              "density.Lophogorgia_chilensis       0\n",
              "density.Loxorhynchus_grandis        0\n",
              "density.Megathura_crenulata         0\n",
              "density.Muricea_californica         0\n",
              "density.Muricea_fruticosa           0\n",
              "density.Orthasterias_koehleri       0\n",
              "density.Panulirus_interruptus       0\n",
              "Parastichopus.californicus          0\n",
              "Parastichopus.parvimensis           0\n",
              "density.Patiria_miniata             0\n",
              "Pisaster.brevispinus                0\n",
              "Pisaster.giganteus                  0\n",
              "Pisaster.ochraceus                  0\n",
              "Pterygophora.californica            0\n",
              "density.Pugettia_producta           0\n",
              "density.Pycnopodia_helianthoides    0\n",
              "Strongylocentrotus.franciscanus     0\n",
              "Strongylocentrotus.purpuratus       0\n",
              "density.Urticina_piscivora          0\n",
              "density.Stylaster_californicus      0\n",
              "climate                             0\n",
              "dtype: int64"
            ]
          },
          "metadata": {},
          "execution_count": 49
        }
      ]
    },
    {
      "cell_type": "code",
      "metadata": {
        "colab": {
          "base_uri": "https://localhost:8080/"
        },
        "id": "IggpDZ1NkOgI",
        "outputId": "678c0073-1799-4e85-a734-d3cd3e449026"
      },
      "source": [
        "df.loc[df['Anthopleura.sola'] > 0, 'Anthopleura.sola'] = 1    #making my data set into a present/non-present since im going to make this a classification project\n",
        "df['Anthopleura.sola'].value_counts()"
      ],
      "execution_count": 51,
      "outputs": [
        {
          "output_type": "execute_result",
          "data": {
            "text/plain": [
              "1.0    503\n",
              "0.0    202\n",
              "Name: Anthopleura.sola, dtype: int64"
            ]
          },
          "metadata": {},
          "execution_count": 51
        }
      ]
    },
    {
      "cell_type": "code",
      "metadata": {
        "colab": {
          "base_uri": "https://localhost:8080/"
        },
        "id": "70saCLPY83Wl",
        "outputId": "71f7a4c7-827a-4e7f-8587-a34e0fe98666"
      },
      "source": [
        "df.loc[df['density.Aplysia_californica'] > 0, 'density.Aplysia_californica'] = 1\n",
        "df['density.Aplysia_californica'].value_counts()"
      ],
      "execution_count": 52,
      "outputs": [
        {
          "output_type": "execute_result",
          "data": {
            "text/plain": [
              "0.0    529\n",
              "1.0    176\n",
              "Name: density.Aplysia_californica, dtype: int64"
            ]
          },
          "metadata": {},
          "execution_count": 52
        }
      ]
    },
    {
      "cell_type": "code",
      "metadata": {
        "colab": {
          "base_uri": "https://localhost:8080/"
        },
        "id": "HESUa8jW83_T",
        "outputId": "7deac3af-2070-4ff2-9f22-4c39c7c71da3"
      },
      "source": [
        "df.loc[df['density.Cancer_spp.'] > 0, 'density.Cancer_spp.'] = 1\n",
        "df['density.Cancer_spp.'].value_counts()"
      ],
      "execution_count": 53,
      "outputs": [
        {
          "output_type": "execute_result",
          "data": {
            "text/plain": [
              "0.0    470\n",
              "1.0    235\n",
              "Name: density.Cancer_spp., dtype: int64"
            ]
          },
          "metadata": {},
          "execution_count": 53
        }
      ]
    },
    {
      "cell_type": "code",
      "metadata": {
        "colab": {
          "base_uri": "https://localhost:8080/"
        },
        "id": "064lJvyE9eHA",
        "outputId": "a2ed9d54-8bbd-454a-aeaf-16938fe862f8"
      },
      "source": [
        "df.loc[df['Costaria.costatum'] > 0, 'Costaria.costatum'] = 1\n",
        "df['Costaria.costatum'].value_counts()"
      ],
      "execution_count": 54,
      "outputs": [
        {
          "output_type": "execute_result",
          "data": {
            "text/plain": [
              "0.0    625\n",
              "1.0     80\n",
              "Name: Costaria.costatum, dtype: int64"
            ]
          },
          "metadata": {},
          "execution_count": 54
        }
      ]
    },
    {
      "cell_type": "code",
      "metadata": {
        "colab": {
          "base_uri": "https://localhost:8080/"
        },
        "id": "kLfy-NdU9kFm",
        "outputId": "961d39bb-3513-4d18-91b3-4bda2ab09260"
      },
      "source": [
        "df.loc[df['density.Crassedoma_giganteum'] > 0, 'density.Crassedoma_giganteum'] = 1\n",
        "df['density.Crassedoma_giganteum'].value_counts()"
      ],
      "execution_count": 55,
      "outputs": [
        {
          "output_type": "execute_result",
          "data": {
            "text/plain": [
              "1.0    493\n",
              "0.0    212\n",
              "Name: density.Crassedoma_giganteum, dtype: int64"
            ]
          },
          "metadata": {},
          "execution_count": 55
        }
      ]
    },
    {
      "cell_type": "code",
      "metadata": {
        "colab": {
          "base_uri": "https://localhost:8080/"
        },
        "id": "scs0uWik9qUw",
        "outputId": "1783a484-2078-430f-b401-98ad5cdba9ef"
      },
      "source": [
        "df.loc[df['density.Cypraea_spadicea'] > 0, 'density.Cypraea_spadicea'] = 1\n",
        "df['density.Cypraea_spadicea'].value_counts()"
      ],
      "execution_count": 56,
      "outputs": [
        {
          "output_type": "execute_result",
          "data": {
            "text/plain": [
              "0.0    472\n",
              "1.0    233\n",
              "Name: density.Cypraea_spadicea, dtype: int64"
            ]
          },
          "metadata": {},
          "execution_count": 56
        }
      ]
    },
    {
      "cell_type": "code",
      "metadata": {
        "colab": {
          "base_uri": "https://localhost:8080/"
        },
        "id": "dyldJ-zD9wrj",
        "outputId": "d10dc405-a2ba-4d82-e999-ce5049780ad3"
      },
      "source": [
        "df.loc[df['density.Cystoseira_osmundacea'] > 0, 'density.Cystoseira_osmundacea'] = 1\n",
        "df['density.Cystoseira_osmundacea'].value_counts()"
      ],
      "execution_count": 57,
      "outputs": [
        {
          "output_type": "execute_result",
          "data": {
            "text/plain": [
              "1.0    558\n",
              "0.0    147\n",
              "Name: density.Cystoseira_osmundacea, dtype: int64"
            ]
          },
          "metadata": {},
          "execution_count": 57
        }
      ]
    },
    {
      "cell_type": "code",
      "metadata": {
        "colab": {
          "base_uri": "https://localhost:8080/"
        },
        "id": "TGKRoIgK947b",
        "outputId": "120fc740-0143-4f5f-d2ce-5ba8b1ebb674"
      },
      "source": [
        "df.loc[df['density.Dermasterias_imbricata'] > 0, 'density.Dermasterias_imbricata'] = 1\n",
        "df['density.Dermasterias_imbricata'].value_counts()"
      ],
      "execution_count": 59,
      "outputs": [
        {
          "output_type": "execute_result",
          "data": {
            "text/plain": [
              "1.0    502\n",
              "0.0    203\n",
              "Name: density.Dermasterias_imbricata, dtype: int64"
            ]
          },
          "metadata": {},
          "execution_count": 59
        }
      ]
    },
    {
      "cell_type": "code",
      "metadata": {
        "colab": {
          "base_uri": "https://localhost:8080/"
        },
        "id": "kERBgNZB-Akm",
        "outputId": "6dd8888c-3756-49e8-f8bb-78c1b8f61050"
      },
      "source": [
        "df.loc[df['Eisenia.arborea'] > 0, 'Eisenia.arborea'] = 1\n",
        "df['Eisenia.arborea'].value_counts()"
      ],
      "execution_count": 60,
      "outputs": [
        {
          "output_type": "execute_result",
          "data": {
            "text/plain": [
              "0.0    433\n",
              "1.0    272\n",
              "Name: Eisenia.arborea, dtype: int64"
            ]
          },
          "metadata": {},
          "execution_count": 60
        }
      ]
    },
    {
      "cell_type": "code",
      "metadata": {
        "colab": {
          "base_uri": "https://localhost:8080/"
        },
        "id": "q2rVNrBP-I6P",
        "outputId": "50c15f6c-61a8-42f0-d149-8ad63a71549a"
      },
      "source": [
        "df.loc[df['Haliotis.spp'] > 0, 'Haliotis.spp'] = 1\n",
        "df['Haliotis.spp'].value_counts()"
      ],
      "execution_count": 61,
      "outputs": [
        {
          "output_type": "execute_result",
          "data": {
            "text/plain": [
              "1.0    363\n",
              "0.0    342\n",
              "Name: Haliotis.spp, dtype: int64"
            ]
          },
          "metadata": {},
          "execution_count": 61
        }
      ]
    },
    {
      "cell_type": "code",
      "metadata": {
        "colab": {
          "base_uri": "https://localhost:8080/"
        },
        "id": "7GXSAPs0-T0H",
        "outputId": "44317ded-ccb0-470c-b554-5d210af6c5bb"
      },
      "source": [
        "df.loc[df['Kelletia.kelletii'] > 0, 'Kelletia.kelletii'] = 1\n",
        "df['Kelletia.kelletii'].value_counts()"
      ],
      "execution_count": 62,
      "outputs": [
        {
          "output_type": "execute_result",
          "data": {
            "text/plain": [
              "1.0    371\n",
              "0.0    334\n",
              "Name: Kelletia.kelletii, dtype: int64"
            ]
          },
          "metadata": {},
          "execution_count": 62
        }
      ]
    },
    {
      "cell_type": "code",
      "metadata": {
        "colab": {
          "base_uri": "https://localhost:8080/"
        },
        "id": "VEGl6zmb-ZHx",
        "outputId": "ffc3df3d-b00f-4760-a906-8fe9100310a8"
      },
      "source": [
        "df.loc[df['Laminaria.farlowii'] > 0, 'Laminaria.farlowii'] = 1\n",
        "df['Laminaria.farlowii'].value_counts()"
      ],
      "execution_count": 63,
      "outputs": [
        {
          "output_type": "execute_result",
          "data": {
            "text/plain": [
              "0.0    522\n",
              "1.0    183\n",
              "Name: Laminaria.farlowii, dtype: int64"
            ]
          },
          "metadata": {},
          "execution_count": 63
        }
      ]
    },
    {
      "cell_type": "code",
      "metadata": {
        "colab": {
          "base_uri": "https://localhost:8080/"
        },
        "id": "8llnxnwX-egJ",
        "outputId": "f57f01b8-9079-4947-8129-97ad5eb12c03"
      },
      "source": [
        "df.loc[df['Laminaria.setchellii'] > 0, 'Laminaria.setchellii'] = 1\n",
        "df['Laminaria.setchellii'].value_counts()"
      ],
      "execution_count": 64,
      "outputs": [
        {
          "output_type": "execute_result",
          "data": {
            "text/plain": [
              "1.0    453\n",
              "0.0    252\n",
              "Name: Laminaria.setchellii, dtype: int64"
            ]
          },
          "metadata": {},
          "execution_count": 64
        }
      ]
    },
    {
      "cell_type": "code",
      "metadata": {
        "colab": {
          "base_uri": "https://localhost:8080/"
        },
        "id": "DsVrCPdW-lOU",
        "outputId": "aea2b388-0d22-4ffd-e757-90a12bcfc5c0"
      },
      "source": [
        "df.loc[df['density.Lophogorgia_chilensis'] > 0, 'density.Lophogorgia_chilensis'] = 1\n",
        "df['density.Lophogorgia_chilensis'].value_counts()"
      ],
      "execution_count": 65,
      "outputs": [
        {
          "output_type": "execute_result",
          "data": {
            "text/plain": [
              "0.0    549\n",
              "1.0    156\n",
              "Name: density.Lophogorgia_chilensis, dtype: int64"
            ]
          },
          "metadata": {},
          "execution_count": 65
        }
      ]
    },
    {
      "cell_type": "code",
      "metadata": {
        "colab": {
          "base_uri": "https://localhost:8080/"
        },
        "id": "SVE07jlo-zw3",
        "outputId": "e1b25bb9-9062-41d4-aeab-d8d9c2de4fc1"
      },
      "source": [
        "df.loc[df['density.Loxorhynchus_grandis'] > 0, 'density.Loxorhynchus_grandis'] = 1\n",
        "df['density.Loxorhynchus_grandis'].value_counts()"
      ],
      "execution_count": 66,
      "outputs": [
        {
          "output_type": "execute_result",
          "data": {
            "text/plain": [
              "0.0    533\n",
              "1.0    172\n",
              "Name: density.Loxorhynchus_grandis, dtype: int64"
            ]
          },
          "metadata": {},
          "execution_count": 66
        }
      ]
    },
    {
      "cell_type": "code",
      "metadata": {
        "colab": {
          "base_uri": "https://localhost:8080/"
        },
        "id": "Q4eapChu-6yH",
        "outputId": "022b4c20-e27a-4584-abd7-c11db7431a25"
      },
      "source": [
        "df.loc[df['density.Loxorhynchus_grandis'] > 0, 'density.Loxorhynchus_grandis'] = 1\n",
        "df['density.Loxorhynchus_grandis'].value_counts()"
      ],
      "execution_count": 67,
      "outputs": [
        {
          "output_type": "execute_result",
          "data": {
            "text/plain": [
              "0.0    533\n",
              "1.0    172\n",
              "Name: density.Loxorhynchus_grandis, dtype: int64"
            ]
          },
          "metadata": {},
          "execution_count": 67
        }
      ]
    },
    {
      "cell_type": "code",
      "metadata": {
        "colab": {
          "base_uri": "https://localhost:8080/"
        },
        "id": "kzXl4Wi1AC_p",
        "outputId": "99d538b2-13d0-47f8-c0c0-a2b66d262924"
      },
      "source": [
        "df.loc[df['density.Megathura_crenulata'] > 0, 'density.Megathura_crenulata'] = 1\n",
        "df['density.Megathura_crenulata'].value_counts()"
      ],
      "execution_count": 68,
      "outputs": [
        {
          "output_type": "execute_result",
          "data": {
            "text/plain": [
              "0.0    368\n",
              "1.0    337\n",
              "Name: density.Megathura_crenulata, dtype: int64"
            ]
          },
          "metadata": {},
          "execution_count": 68
        }
      ]
    },
    {
      "cell_type": "code",
      "metadata": {
        "colab": {
          "base_uri": "https://localhost:8080/"
        },
        "id": "kN2TqsDoANdD",
        "outputId": "1c734340-647b-42c1-9c0e-e6984f22911d"
      },
      "source": [
        "df.loc[df['density.Muricea_californica'] > 0, 'density.Muricea_californica'] = 1\n",
        "df['density.Muricea_californica'].value_counts()"
      ],
      "execution_count": 70,
      "outputs": [
        {
          "output_type": "execute_result",
          "data": {
            "text/plain": [
              "0.0    589\n",
              "1.0    116\n",
              "Name: density.Muricea_californica, dtype: int64"
            ]
          },
          "metadata": {},
          "execution_count": 70
        }
      ]
    },
    {
      "cell_type": "code",
      "metadata": {
        "id": "kwg0xFxVAP7H"
      },
      "source": [
        "df.loc[df['density.Muricea_fruticosa'] > 0, 'density.Muricea_fruticosa'] = 1\n",
        "df['density.Muricea_fruticosa'].value_counts()"
      ],
      "execution_count": null,
      "outputs": []
    },
    {
      "cell_type": "code",
      "metadata": {
        "id": "toYHs2NRAQMF"
      },
      "source": [
        "df.loc[df['density.Orthasterias_koehleri'] > 0, 'density.Orthasterias_koehleri'] = 1\n",
        "df['density.Orthasterias_koehleri'].value_counts()"
      ],
      "execution_count": null,
      "outputs": []
    },
    {
      "cell_type": "code",
      "metadata": {
        "id": "pCg-ACmgAQ1X"
      },
      "source": [
        "df.loc[df['density.Panulirus_interruptus'] > 0, 'density.Panulirus_interruptus'] = 1\n",
        "df['density.Panulirus_interruptus'].value_counts()"
      ],
      "execution_count": null,
      "outputs": []
    },
    {
      "cell_type": "code",
      "metadata": {
        "id": "fzwcMPN9ARlY"
      },
      "source": [
        "df.loc[df['Parastichopus.californicus'] > 0, 'Parastichopus.californicus'] = 1\n",
        "df['Parastichopus.californicus'].value_counts()"
      ],
      "execution_count": null,
      "outputs": []
    },
    {
      "cell_type": "code",
      "metadata": {
        "id": "0pCQFl0mARc5"
      },
      "source": [
        "df.loc[df['Parastichopus.parvimensis'] > 0, 'Parastichopus.parvimensis'] = 1\n",
        "df['Parastichopus.parvimensis'].value_counts()"
      ],
      "execution_count": null,
      "outputs": []
    },
    {
      "cell_type": "code",
      "metadata": {
        "id": "3bBdb5o_ARUN"
      },
      "source": [
        "df.loc[df['density.Patiria_miniata'] > 0, 'density.Patiria_miniata'] = 1\n",
        "df['density.Patiria_miniata'].value_counts()"
      ],
      "execution_count": null,
      "outputs": []
    },
    {
      "cell_type": "code",
      "metadata": {
        "id": "owoas4ZpQESH"
      },
      "source": [
        "df.loc[df['Pisaster.brevispinus'] > 0, 'Pisaster.brevispinus'] = 1\n",
        "df['Pisaster.brevispinus'].value_counts()"
      ],
      "execution_count": null,
      "outputs": []
    },
    {
      "cell_type": "code",
      "metadata": {
        "id": "7u2bEh_OQVCN"
      },
      "source": [
        "df.loc[df['Pisaster.giganteus'] > 0, 'Pisaster.giganteus'] = 1\n",
        "df['Pisaster.giganteus'].value_counts()"
      ],
      "execution_count": null,
      "outputs": []
    },
    {
      "cell_type": "code",
      "metadata": {
        "id": "44zGTH5zQU6s"
      },
      "source": [
        "df.loc[df['Pisaster.giganteus'] > 0, 'Pisaster.giganteus'] = 1\n",
        "df['Pisaster.giganteus'].value_counts()"
      ],
      "execution_count": null,
      "outputs": []
    },
    {
      "cell_type": "code",
      "metadata": {
        "colab": {
          "base_uri": "https://localhost:8080/"
        },
        "id": "nfcVR3tNQUxV",
        "outputId": "70f59ede-b739-4d98-d7e2-8ed11b92f734"
      },
      "source": [
        "df.info()"
      ],
      "execution_count": 79,
      "outputs": [
        {
          "output_type": "stream",
          "name": "stdout",
          "text": [
            "<class 'pandas.core.frame.DataFrame'>\n",
            "RangeIndex: 705 entries, 0 to 704\n",
            "Data columns (total 39 columns):\n",
            " #   Column                            Non-Null Count  Dtype  \n",
            "---  ------                            --------------  -----  \n",
            " 0   site                              705 non-null    object \n",
            " 1   lat_wgs84                         705 non-null    float64\n",
            " 2   lon_wgs84                         705 non-null    float64\n",
            " 3   bioregion                         705 non-null    object \n",
            " 4   year                              705 non-null    int64  \n",
            " 5   Anthopleura.sola                  705 non-null    float64\n",
            " 6   density.Aplysia_californica       705 non-null    float64\n",
            " 7   density.Cancer_spp.               705 non-null    float64\n",
            " 8   Costaria.costatum                 705 non-null    float64\n",
            " 9   density.Crassedoma_giganteum      705 non-null    float64\n",
            " 10  density.Cypraea_spadicea          705 non-null    float64\n",
            " 11  density.Cystoseira_osmundacea     705 non-null    float64\n",
            " 12  density.Dermasterias_imbricata    705 non-null    float64\n",
            " 13  Eisenia.arborea                   705 non-null    float64\n",
            " 14  Haliotis.spp                      705 non-null    float64\n",
            " 15  Kelletia.kelletii                 705 non-null    float64\n",
            " 16  Laminaria.farlowii                705 non-null    float64\n",
            " 17  Laminaria.setchellii              705 non-null    float64\n",
            " 18  density.Lophogorgia_chilensis     705 non-null    float64\n",
            " 19  density.Loxorhynchus_grandis      705 non-null    float64\n",
            " 20  density.Megathura_crenulata       705 non-null    float64\n",
            " 21  density.Muricea_californica       705 non-null    float64\n",
            " 22  density.Muricea_fruticosa         705 non-null    float64\n",
            " 23  density.Orthasterias_koehleri     705 non-null    float64\n",
            " 24  density.Panulirus_interruptus     705 non-null    float64\n",
            " 25  Parastichopus.californicus        705 non-null    float64\n",
            " 26  Parastichopus.parvimensis         705 non-null    float64\n",
            " 27  density.Patiria_miniata           705 non-null    float64\n",
            " 28  Pisaster.brevispinus              705 non-null    float64\n",
            " 29  Pisaster.giganteus                705 non-null    float64\n",
            " 30  Pisaster.ochraceus                705 non-null    float64\n",
            " 31  Pterygophora.californica          705 non-null    float64\n",
            " 32  density.Pugettia_producta         705 non-null    float64\n",
            " 33  density.Pycnopodia_helianthoides  705 non-null    float64\n",
            " 34  Strongylocentrotus.franciscanus   705 non-null    float64\n",
            " 35  Strongylocentrotus.purpuratus     705 non-null    float64\n",
            " 36  density.Urticina_piscivora        705 non-null    float64\n",
            " 37  density.Stylaster_californicus    705 non-null    float64\n",
            " 38  climate                           705 non-null    float64\n",
            "dtypes: float64(36), int64(1), object(2)\n",
            "memory usage: 214.9+ KB\n"
          ]
        }
      ]
    },
    {
      "cell_type": "code",
      "metadata": {
        "id": "jTXiQ5lbQEGl"
      },
      "source": [
        "df.loc[df['Pterygophora.californica'] > 0, 'Pterygophora.californica'] = 1\n",
        "df['Pterygophora.californica'].value_counts()"
      ],
      "execution_count": null,
      "outputs": []
    },
    {
      "cell_type": "code",
      "metadata": {
        "id": "6l6bp1uAQr9d"
      },
      "source": [
        "df.loc[df['density.Pugettia_producta'] > 0, 'density.Pugettia_producta'] = 1\n",
        "df['density.Pugettia_producta'].value_counts()"
      ],
      "execution_count": null,
      "outputs": []
    },
    {
      "cell_type": "code",
      "metadata": {
        "id": "BJOC5fQoQrsA"
      },
      "source": [
        "df.loc[df['density.Pycnopodia_helianthoides'] > 0, 'density.Pycnopodia_helianthoides'] = 1\n",
        "df['density.Pycnopodia_helianthoides'].value_counts()"
      ],
      "execution_count": null,
      "outputs": []
    },
    {
      "cell_type": "code",
      "metadata": {
        "id": "1wWWXTO5Qrm1"
      },
      "source": [
        "df.loc[df['Strongylocentrotus.franciscanus'] > 0, 'Strongylocentrotus.franciscanus'] = 1\n",
        "df['Strongylocentrotus.franciscanus'].value_counts()"
      ],
      "execution_count": null,
      "outputs": []
    },
    {
      "cell_type": "code",
      "metadata": {
        "id": "b22wW8g9Qrh-"
      },
      "source": [
        "df.loc[df['Strongylocentrotus.purpuratus'] > 0, 'Strongylocentrotus.purpuratus'] = 1\n",
        "df['Strongylocentrotus.purpuratus'].value_counts()"
      ],
      "execution_count": null,
      "outputs": []
    },
    {
      "cell_type": "code",
      "metadata": {
        "id": "z28Yg3CtRTlX"
      },
      "source": [
        "df.loc[df['density.Urticina_piscivora'] > 0, 'density.Urticina_piscivora'] = 1\n",
        "df['density.Urticina_piscivora'].value_counts()"
      ],
      "execution_count": null,
      "outputs": []
    },
    {
      "cell_type": "code",
      "metadata": {
        "id": "5yyOrKXKRTd9"
      },
      "source": [
        "df.loc[df['density.Stylaster_californicus'] > 0, 'density.Stylaster_californicus'] = 1\n",
        "df['density.Stylaster_californicus'].value_counts()"
      ],
      "execution_count": null,
      "outputs": []
    },
    {
      "cell_type": "code",
      "metadata": {
        "colab": {
          "base_uri": "https://localhost:8080/",
          "height": 1000
        },
        "id": "0SOTu60U2sxD",
        "outputId": "9309840c-1380-4acf-a568-3197f76c17ee"
      },
      "source": [
        "# Make a heatmap of correlations \n",
        "corr = df.corr()\n",
        "l = corr[corr >= .5]                              #https://stackoverflow.com/questions/64019509/how-can-we-show-only-features-that-are-correlated-over-a-certain-threshold-in-a\n",
        "plt.figure(figsize=(20,15))\n",
        "g = sns.heatmap(l, cmap = 'rocket_r', linewidth = 1,annot = True)                                    \n",
        "g.set_xticklabels(g.get_xticklabels(), rotation=45, horizontalalignment='right')\n",
        ";"
      ],
      "execution_count": 88,
      "outputs": [
        {
          "output_type": "execute_result",
          "data": {
            "application/vnd.google.colaboratory.intrinsic+json": {
              "type": "string"
            },
            "text/plain": [
              "''"
            ]
          },
          "metadata": {},
          "execution_count": 88
        },
        {
          "output_type": "display_data",
          "data": {
            "image/png": "[encoded data removed]",
            "text/plain": [
              "<Figure size 1440x1080 with 2 Axes>"
            ]
          },
          "metadata": {
            "needs_background": "light"
          }
        }
      ]
    },
    {
      "cell_type": "code",
      "metadata": {
        "colab": {
          "base_uri": "https://localhost:8080/",
          "height": 371
        },
        "id": "hl31QhE864bp",
        "outputId": "b5e9a690-c49a-4cb7-ea33-790538374f6a"
      },
      "source": [
        "plt.bar(df['bioregion'],df['Strongylocentrotus.purpuratus'])    #identifying how many were observed at each location (purple urchin)\n",
        "plt.xticks(rotation=60);"
      ],
      "execution_count": 91,
      "outputs": [
        {
          "output_type": "display_data",
          "data": {
            "image/png": "[encoded data removed]",
            "text/plain": [
              "<Figure size 432x288 with 1 Axes>"
            ]
          },
          "metadata": {
            "needs_background": "light"
          }
        }
      ]
    },
    {
      "cell_type": "code",
      "metadata": {
        "colab": {
          "base_uri": "https://localhost:8080/",
          "height": 371
        },
        "id": "7IudDVQU1V9X",
        "outputId": "80337251-504c-4527-85c3-0bd3c8f2e135"
      },
      "source": [
        "plt.bar(df['bioregion'],df['Costaria.costatum'])    \n",
        "plt.xticks(rotation=60);"
      ],
      "execution_count": 12,
      "outputs": [
        {
          "output_type": "display_data",
          "data": {
            "image/png": "[encoded data removed]",
            "text/plain": [
              "<Figure size 432x288 with 1 Axes>"
            ]
          },
          "metadata": {
            "needs_background": "light"
          }
        }
      ]
    },
    {
      "cell_type": "code",
      "metadata": {
        "colab": {
          "base_uri": "https://localhost:8080/",
          "height": 371
        },
        "id": "djVzkyMD8AM3",
        "outputId": "dbc652e6-8522-44c1-c2ef-9be9b4b92270"
      },
      "source": [
        "plt.bar(df['bioregion'],df['Strongylocentrotus.purpuratus'])    \n",
        "plt.xticks(rotation=60)\n",
        "plt.bar(df['bioregion'],df['Costaria.costatum'])    \n",
        "plt.xticks(rotation=60);"
      ],
      "execution_count": 92,
      "outputs": [
        {
          "output_type": "display_data",
          "data": {
            "image/png": "[encoded data removed]",
            "text/plain": [
              "<Figure size 432x288 with 1 Axes>"
            ]
          },
          "metadata": {
            "needs_background": "light"
          }
        }
      ]
    },
    {
      "cell_type": "code",
      "metadata": {
        "colab": {
          "base_uri": "https://localhost:8080/",
          "height": 371
        },
        "id": "oFeT65vw1SgZ",
        "outputId": "e2d55644-2d26-48b0-db51-373a46e5f794"
      },
      "source": [
        "plt.bar(df['bioregion'],df['density.Cystoseira_osmundacea'])    \n",
        "plt.xticks(rotation=60);"
      ],
      "execution_count": 14,
      "outputs": [
        {
          "output_type": "display_data",
          "data": {
            "image/png": "[encoded data removed]",
            "text/plain": [
              "<Figure size 432x288 with 1 Axes>"
            ]
          },
          "metadata": {
            "needs_background": "light"
          }
        }
      ]
    },
    {
      "cell_type": "code",
      "metadata": {
        "colab": {
          "base_uri": "https://localhost:8080/",
          "height": 389
        },
        "id": "lyEuWHHX17f2",
        "outputId": "243d2bf6-617e-4da8-b3bc-400e609a8631"
      },
      "source": [
        "plt.bar(df['bioregion'],df['Strongylocentrotus.purpuratus'])    \n",
        "plt.xticks(rotation=60)\n",
        "plt.bar(df['bioregion'],df['density.Cystoseira_osmundacea'])    \n",
        "plt.xticks(rotation=60)\n",
        ";"
      ],
      "execution_count": 15,
      "outputs": [
        {
          "output_type": "execute_result",
          "data": {
            "application/vnd.google.colaboratory.intrinsic+json": {
              "type": "string"
            },
            "text/plain": [
              "''"
            ]
          },
          "metadata": {},
          "execution_count": 15
        },
        {
          "output_type": "display_data",
          "data": {
            "image/png": "[encoded data removed]",
            "text/plain": [
              "<Figure size 432x288 with 1 Axes>"
            ]
          },
          "metadata": {
            "needs_background": "light"
          }
        }
      ]
    },
    {
      "cell_type": "code",
      "metadata": {
        "colab": {
          "base_uri": "https://localhost:8080/",
          "height": 389
        },
        "id": "fe3Tq3qm2H__",
        "outputId": "3d3264c6-cfc5-4c00-a0d0-974e30fec656"
      },
      "source": [
        "plt.bar(df['bioregion'],df['Eisenia.arborea'])    \n",
        "plt.xticks(rotation=60)\n",
        ";"
      ],
      "execution_count": 16,
      "outputs": [
        {
          "output_type": "execute_result",
          "data": {
            "application/vnd.google.colaboratory.intrinsic+json": {
              "type": "string"
            },
            "text/plain": [
              "''"
            ]
          },
          "metadata": {},
          "execution_count": 16
        },
        {
          "output_type": "display_data",
          "data": {
            "image/png": "[encoded data removed]",
            "text/plain": [
              "<Figure size 432x288 with 1 Axes>"
            ]
          },
          "metadata": {
            "needs_background": "light"
          }
        }
      ]
    },
    {
      "cell_type": "code",
      "metadata": {
        "colab": {
          "base_uri": "https://localhost:8080/",
          "height": 371
        },
        "id": "DIRisX7a4KCb",
        "outputId": "e2d4da48-ea64-437d-ac81-acbb14184ef7"
      },
      "source": [
        "plt.bar(df['bioregion'],df['Strongylocentrotus.purpuratus'])    \n",
        "plt.xticks(rotation=60)\n",
        "plt.bar(df['bioregion'],df['Eisenia.arborea'])    \n",
        "plt.xticks(rotation=60);"
      ],
      "execution_count": 17,
      "outputs": [
        {
          "output_type": "display_data",
          "data": {
            "image/png": "[encoded data removed]",
            "text/plain": [
              "<Figure size 432x288 with 1 Axes>"
            ]
          },
          "metadata": {
            "needs_background": "light"
          }
        }
      ]
    },
    {
      "cell_type": "code",
      "metadata": {
        "colab": {
          "base_uri": "https://localhost:8080/",
          "height": 389
        },
        "id": "Tpeg0_344R7r",
        "outputId": "0c100427-7f8a-4db5-f644-a9f983f5ef2a"
      },
      "source": [
        "plt.bar(df['bioregion'],df['Laminaria.farlowii'])    \n",
        "plt.xticks(rotation=60)\n",
        ";"
      ],
      "execution_count": 18,
      "outputs": [
        {
          "output_type": "execute_result",
          "data": {
            "application/vnd.google.colaboratory.intrinsic+json": {
              "type": "string"
            },
            "text/plain": [
              "''"
            ]
          },
          "metadata": {},
          "execution_count": 18
        },
        {
          "output_type": "display_data",
          "data": {
            "image/png": "[encoded data removed]",
            "text/plain": [
              "<Figure size 432x288 with 1 Axes>"
            ]
          },
          "metadata": {
            "needs_background": "light"
          }
        }
      ]
    },
    {
      "cell_type": "code",
      "metadata": {
        "colab": {
          "base_uri": "https://localhost:8080/",
          "height": 371
        },
        "id": "gH0iQ95h482P",
        "outputId": "5b6ad6f2-61aa-49fd-c951-273e1270e0e1"
      },
      "source": [
        "plt.bar(df['bioregion'],df['Strongylocentrotus.purpuratus'])    \n",
        "plt.xticks(rotation=60)\n",
        "plt.bar(df['bioregion'],df['Laminaria.farlowii'])    \n",
        "plt.xticks(rotation=60);"
      ],
      "execution_count": 19,
      "outputs": [
        {
          "output_type": "display_data",
          "data": {
            "image/png": "[encoded data removed]",
            "text/plain": [
              "<Figure size 432x288 with 1 Axes>"
            ]
          },
          "metadata": {
            "needs_background": "light"
          }
        }
      ]
    },
    {
      "cell_type": "code",
      "metadata": {
        "colab": {
          "base_uri": "https://localhost:8080/",
          "height": 371
        },
        "id": "lhTS8ygO6KXR",
        "outputId": "8fe74d8d-dcf2-40e3-edcf-208f13081ec7"
      },
      "source": [
        "plt.bar(df['bioregion'],df['Pterygophora.californica'])    \n",
        "plt.xticks(rotation=60);"
      ],
      "execution_count": 20,
      "outputs": [
        {
          "output_type": "display_data",
          "data": {
            "image/png": "[encoded data removed]",
            "text/plain": [
              "<Figure size 432x288 with 1 Axes>"
            ]
          },
          "metadata": {
            "needs_background": "light"
          }
        }
      ]
    },
    {
      "cell_type": "code",
      "metadata": {
        "colab": {
          "base_uri": "https://localhost:8080/",
          "height": 371
        },
        "id": "h5BjxZ9t805D",
        "outputId": "81390284-50b2-44bd-95e1-2a05df40e127"
      },
      "source": [
        "plt.bar(df['bioregion'],df['Strongylocentrotus.purpuratus'])    \n",
        "plt.xticks(rotation=60)\n",
        "plt.bar(df['bioregion'],df['Pterygophora.californica'])    \n",
        "plt.xticks(rotation=60);"
      ],
      "execution_count": 21,
      "outputs": [
        {
          "output_type": "display_data",
          "data": {
            "image/png": "[encoded data removed]",
            "text/plain": [
              "<Figure size 432x288 with 1 Axes>"
            ]
          },
          "metadata": {
            "needs_background": "light"
          }
        }
      ]
    },
    {
      "cell_type": "code",
      "metadata": {
        "id": "XY-lEyJA88zr"
      },
      "source": [
        ""
      ],
      "execution_count": 21,
      "outputs": []
    }
  ]
}